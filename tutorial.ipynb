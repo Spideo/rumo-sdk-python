{
 "cells": [
  {
   "cell_type": "code",
   "execution_count": null,
   "id": "21f85dd8-5802-4e30-bed9-7ffbae4c0571",
   "metadata": {},
   "outputs": [],
   "source": [
    "from time import sleep\n",
    "\n",
    "from rumo_sdk.api_client import RumoClient\n",
    "from rumo_sdk.content_api import ContentApi\n",
    "from rumo_sdk.search_api import SearchApi\n",
    "from rumo_sdk.interactions_api import InteractionsApi, InteractionType, TargetType\n",
    "from rumo_sdk.recommendation_api import RecommendationApi\n",
    "from rumo_sdk.users_api import UsersApi"
   ]
  },
  {
   "cell_type": "markdown",
   "id": "9d10c76d-5a29-4902-be81-bb3720716c1e",
   "metadata": {},
   "source": [
    "## API setup"
   ]
  },
  {
   "cell_type": "code",
   "execution_count": null,
   "id": "5de916df-12f7-4e69-bc8e-15c0d201c683",
   "metadata": {},
   "outputs": [],
   "source": [
    "api_url = \"https://api.rumo.co/\"\n",
    "source_id = \"Spideo_z9dt0\"\n",
    "api_key = \"\""
   ]
  },
  {
   "cell_type": "code",
   "execution_count": null,
   "id": "0bb7cecc-de9e-4524-81ca-6aa3c2eaa06d",
   "metadata": {},
   "outputs": [],
   "source": [
    "rumo_client = RumoClient(api_url=api_url, source_id=source_id, api_key=api_key)"
   ]
  },
  {
   "cell_type": "markdown",
   "id": "888d3050-a26c-4d22-8b99-c253275aac40",
   "metadata": {},
   "source": [
    "## Content API"
   ]
  },
  {
   "cell_type": "code",
   "execution_count": null,
   "id": "0ac57a65-0067-4945-b9ee-117d44d2f51f",
   "metadata": {},
   "outputs": [],
   "source": [
    "content_api = ContentApi(rumo_client)"
   ]
  },
  {
   "cell_type": "code",
   "execution_count": null,
   "id": "19969cc3-1680-40a7-a005-8a3298ad5a20",
   "metadata": {},
   "outputs": [],
   "source": [
    "# Count number of items in catalog\n",
    "content_api.get_item_count()"
   ]
  },
  {
   "cell_type": "code",
   "execution_count": null,
   "id": "9a085937-b3c7-4502-978b-fe301a8788e4",
   "metadata": {},
   "outputs": [],
   "source": [
    "# Get 10 items from catalog\n",
    "content_api.get_items(skip=490, limit=1)"
   ]
  },
  {
   "cell_type": "code",
   "execution_count": null,
   "id": "1f07a734-224a-4962-9f76-205846dc2739",
   "metadata": {},
   "outputs": [],
   "source": [
    "# Get item by id\n",
    "content_api.get_item_by_id(\"000454e2-6015-41e8-9331-36e4549d6db8\")"
   ]
  },
  {
   "cell_type": "markdown",
   "id": "a9042af6-52f0-40f2-918b-2276fbe606b4",
   "metadata": {},
   "source": [
    "## Search API"
   ]
  },
  {
   "cell_type": "code",
   "execution_count": null,
   "id": "0615b93a-d46f-4de1-a0d5-1d782945861c",
   "metadata": {},
   "outputs": [],
   "source": [
    "search_api = SearchApi(rumo_client)"
   ]
  },
  {
   "cell_type": "code",
   "execution_count": null,
   "id": "2d2f8c0a-30ef-4085-ab99-dfb4bbc4f7ce",
   "metadata": {},
   "outputs": [],
   "source": [
    "# Search by keyword\n",
    "search_api.search_by_keyword(\"Californie\", details=True, limit=2)"
   ]
  },
  {
   "cell_type": "code",
   "execution_count": null,
   "id": "b9f13093-e1c4-4f39-91e3-4c15b8750905",
   "metadata": {},
   "outputs": [],
   "source": [
    "# Test other search endpoints\n",
    "print(search_api.search_by_keyword_in_category(\"Californie\", \"country\", details=True, limit=2)[\"totalCount\"])  # should be 0\n",
    "print(search_api.search_by_keyword_in_category(\"Californie\", \"shared\", details=True, limit=2)[\"totalCount\"])   # should be 86\n",
    "print(search_api.search_label_exact(\"Los Angeles Bar Hunt: Downtown Drinks in DTLA\")[\"totalCount\"])            # should be 1\n",
    "print(search_api.search_label_contains(\"Los Angeles\")[\"totalCount\"])                                           # should be 20\n",
    "print(search_api.search_label_fuzzy(\"Angles\")[\"totalCount\"])                                                   # should be 15"
   ]
  },
  {
   "cell_type": "markdown",
   "id": "2bf13397-7c9b-4373-bba0-b554f1b37e2f",
   "metadata": {},
   "source": [
    "## Interactions API"
   ]
  },
  {
   "cell_type": "code",
   "execution_count": null,
   "id": "807aa3c1-26fd-4876-a50a-825b0a56cdd6",
   "metadata": {},
   "outputs": [],
   "source": [
    "interactions_api = InteractionsApi(rumo_client)"
   ]
  },
  {
   "cell_type": "code",
   "execution_count": null,
   "id": "4d7c3fe5-e3a8-4142-98a6-b292ddb76298",
   "metadata": {},
   "outputs": [],
   "source": [
    "# Create new interactions\n",
    "interactions_api.click(\"jabi_tests\", \"10211P47\")\n",
    "interactions_api.post_interaction_on_keyword(\"jabi_tests\", InteractionType.LIKE, \"shared\", \"Los Angeles\")"
   ]
  },
  {
   "cell_type": "code",
   "execution_count": null,
   "id": "5d0be104-a17f-471c-b874-fa12903067ea",
   "metadata": {},
   "outputs": [],
   "source": [
    "# Get interaction just to check\n",
    "sleep(5)\n",
    "interactions_api.get_interactions(\"jabi_tests\", target_type=TargetType.KEYWORD)"
   ]
  },
  {
   "cell_type": "markdown",
   "id": "c5dc1e97-19cd-4be5-8bdc-ab00b8d7c9d9",
   "metadata": {},
   "source": [
    "## Recommendation API"
   ]
  },
  {
   "cell_type": "code",
   "execution_count": null,
   "id": "1c817060-e4ef-49e9-8c79-a57c0aa94e6e",
   "metadata": {},
   "outputs": [],
   "source": [
    "reco_api = RecommendationApi(rumo_client)"
   ]
  },
  {
   "cell_type": "code",
   "execution_count": null,
   "id": "d7b5296e-64ad-466e-80bf-50fc245c36de",
   "metadata": {},
   "outputs": [],
   "source": [
    "print(len(reco_api.get_similar(\"000454e2-6015-41e8-9331-36e4549d6db8\")[\"content\"])) # should be 30\n",
    "print(len(reco_api.get_user_recommendation(\"jabi_tests\")[\"content\"]))               # should be 30"
   ]
  },
  {
   "cell_type": "code",
   "execution_count": null,
   "id": "c94c6926-62a3-4899-8440-c4cf1cf59e10",
   "metadata": {},
   "outputs": [],
   "source": [
    "reco_api.get_user_profile(\"jabi_tests\")"
   ]
  },
  {
   "cell_type": "markdown",
   "id": "c3b3d55c-df4a-44a1-ac53-dfa0d1dd6a86",
   "metadata": {},
   "source": [
    "## Users API"
   ]
  },
  {
   "cell_type": "code",
   "execution_count": null,
   "id": "bfa9ca57-5075-4e21-8468-f2f629592843",
   "metadata": {},
   "outputs": [],
   "source": [
    "users_api = UsersApi(rumo_client)"
   ]
  },
  {
   "cell_type": "code",
   "execution_count": null,
   "id": "0750d3a8-6160-4785-bc07-e5a07f8d3dc9",
   "metadata": {},
   "outputs": [],
   "source": [
    "# delete history of my test user\n",
    "users_api.delete_user_history(\"jabi_tests\")"
   ]
  },
  {
   "cell_type": "code",
   "execution_count": null,
   "id": "8b1ec454-bc72-4592-b9e2-3ca36512383b",
   "metadata": {},
   "outputs": [],
   "source": [
    "# make sure there is no USF after this\n",
    "reco_api.get_user_profile(\"jabi_tests\")"
   ]
  },
  {
   "cell_type": "code",
   "execution_count": null,
   "id": "c9575461-c447-4506-ae5c-dc69491497d5",
   "metadata": {},
   "outputs": [],
   "source": [
    "# play around with GDPR features\n",
    "interactions_api.click(\"gdpr_user\", \"10211P47\")\n",
    "print(users_api.get_user_tracking_choice(\"gdpr_user\"))\n",
    "print(users_api.set_user_tracking_choice(\"gdpr_user\", False))\n",
    "print(users_api.get_user_tracking_choice(\"gdpr_user\"))\n",
    "print(users_api.set_user_tracking_choice(\"gdpr_user\", True))\n",
    "print(users_api.get_user_tracking_choice(\"gdpr_user\"))"
   ]
  }
 ],
 "metadata": {
  "kernelspec": {
   "display_name": "Python 3 (ipykernel)",
   "language": "python",
   "name": "python3"
  },
  "language_info": {
   "codemirror_mode": {
    "name": "ipython",
    "version": 3
   },
   "file_extension": ".py",
   "mimetype": "text/x-python",
   "name": "python",
   "nbconvert_exporter": "python",
   "pygments_lexer": "ipython3",
   "version": "3.10.12"
  }
 },
 "nbformat": 4,
 "nbformat_minor": 5
}
