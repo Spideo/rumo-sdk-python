{
 "cells": [
  {
   "cell_type": "code",
   "execution_count": null,
   "id": "21f85dd8-5802-4e30-bed9-7ffbae4c0571",
   "metadata": {},
   "outputs": [],
   "source": [
    "from time import sleep\n",
    "import json\n",
    "import pprint\n",
    "\n",
    "from rumo_sdk.api_client import RumoClient\n",
    "from rumo_sdk.content_api import ContentApi\n",
    "from rumo_sdk import open_api"
   ]
  },
  {
   "cell_type": "markdown",
   "id": "9d10c76d-5a29-4902-be81-bb3720716c1e",
   "metadata": {},
   "source": [
    "## API setup"
   ]
  },
  {
   "cell_type": "code",
   "execution_count": null,
   "id": "5de916df-12f7-4e69-bc8e-15c0d201c683",
   "metadata": {},
   "outputs": [],
   "source": [
    "api_url = \"https://api.rumo.co/\"\n",
    "source_id = \"Spideo_sgp0o\"\n",
    "api_key = \"\""
   ]
  },
  {
   "cell_type": "code",
   "execution_count": null,
   "id": "512c37fe-df19-4996-80c3-f3924edd4f62",
   "metadata": {},
   "outputs": [],
   "source": [
    "openapi_type = open_api.OpenApiType.FILE\n",
    "openapi_source = \"rumo_api.yaml\""
   ]
  },
  {
   "cell_type": "code",
   "execution_count": null,
   "id": "0bb7cecc-de9e-4524-81ca-6aa3c2eaa06d",
   "metadata": {},
   "outputs": [],
   "source": [
    "rumo_client = RumoClient(api_url=api_url, source_id=source_id, api_key=api_key, openapi_type=openapi_type, openapi_source=openapi_source)"
   ]
  },
  {
   "cell_type": "markdown",
   "id": "888d3050-a26c-4d22-8b99-c253275aac40",
   "metadata": {},
   "source": [
    "## Content API"
   ]
  },
  {
   "cell_type": "code",
   "execution_count": null,
   "id": "0ac57a65-0067-4945-b9ee-117d44d2f51f",
   "metadata": {},
   "outputs": [],
   "source": [
    "content_api = ContentApi(rumo_client)"
   ]
  },
  {
   "cell_type": "code",
   "execution_count": null,
   "id": "19969cc3-1680-40a7-a005-8a3298ad5a20",
   "metadata": {},
   "outputs": [],
   "source": [
    "# Count number of items in catalog\n",
    "content_api.get_item_count()"
   ]
  },
  {
   "cell_type": "code",
   "execution_count": null,
   "id": "5c389a4e-8717-4dd1-b6cd-94b8a3576b84",
   "metadata": {},
   "outputs": [],
   "source": [
    "content_api.get_items()"
   ]
  },
  {
   "cell_type": "code",
   "execution_count": null,
   "id": "1f07a734-224a-4962-9f76-205846dc2739",
   "metadata": {},
   "outputs": [],
   "source": [
    "# Get item by id\n",
    "content_api.delete_item_by_id(\"4\")"
   ]
  },
  {
   "cell_type": "markdown",
   "id": "e0d5887f-b49e-47ac-bdb7-f219733ed186",
   "metadata": {},
   "source": [
    "## Post content"
   ]
  },
  {
   "cell_type": "code",
   "execution_count": null,
   "id": "600e0829-caa1-4a3b-8ce0-62c0eb5c770e",
   "metadata": {},
   "outputs": [],
   "source": [
    "test_content = {\n",
    "    \"label\": \"this is a title\",\n",
    "    \"id\": \"4\",\n",
    "    \"categories\": {\n",
    "        \"tags\": [\n",
    "            {\"key\": \"action & games\", \"weight\": 100},\n",
    "            {\"key\": \"adventures\", \"weight\": 10},\n",
    "        ],\n",
    "        \"cast\": [\"Jean-Michel\"]\n",
    "    }\n",
    "}"
   ]
  },
  {
   "cell_type": "code",
   "execution_count": null,
   "id": "cde67e8c-71f2-441e-a4ca-82cbc0ab9199",
   "metadata": {
    "scrolled": true
   },
   "outputs": [],
   "source": [
    "content_api.post_content(test_content)"
   ]
  },
  {
   "cell_type": "markdown",
   "id": "b4adcd1d-d43c-4814-9eb0-408eb6c14d54",
   "metadata": {},
   "source": [
    "## Validate without POST"
   ]
  },
  {
   "cell_type": "code",
   "execution_count": null,
   "id": "a833b30c-69cc-4b7a-b2d3-dd1c26fb50c3",
   "metadata": {},
   "outputs": [],
   "source": [
    "content_api.validate_content(test_content)"
   ]
  },
  {
   "cell_type": "code",
   "execution_count": null,
   "id": "eed6f0b4-9de5-4631-b439-2ece97e85257",
   "metadata": {},
   "outputs": [],
   "source": [
    "content_api.validate_catalog([test_content, test_content])"
   ]
  },
  {
   "cell_type": "code",
   "execution_count": null,
   "id": "aaa089c7-d28f-4de1-abc1-a38bda91ca4a",
   "metadata": {},
   "outputs": [],
   "source": [
    "example = json.loads(\"[\\n    {\\n        \\\"id\\\": \\\"123456789_123456789_123456789_123456789_123456789_123456789_12345\\\",\\n        \\\"label\\\": \\\"Assassin's Creed Odyssey\\\",\\n        \\\"filters\\\": {\\n            \\\"audience\\\": [\\n                \\\"min18\\\"\\n            ]\\n        },\\n        \\\"categories\\\": {\\n            \\\"theme\\\": [\\n                {\\n                    \\\"key\\\":\\\"sword-and-sandal\\\",\\n                    \\\"weight\\\": 70\\n                }\\n            ]\\n        }\\n    },\\n    {\\n        \\\"id\\\": \\\"100\\\",\\n        \\\"label\\\": \\\"Assassin's Creed Odyssey II\\\",\\n        \\\"filters\\\": {\\n            \\\"audience\\\": [\\n                \\\"min18\\\"\\n            ]\\n        },\\n        \\\"categories\\\": {\\n            \\\"theme\\\": [\\n                {\\n                    \\\"key\\\":\\\"sword-and-sandal\\\",\\n                    \\\"weight\\\": 70\\n                }\\n            ]\\n        }\\n    }\\n]\")\n",
    "pprint.pprint(example)"
   ]
  },
  {
   "cell_type": "code",
   "execution_count": null,
   "id": "bcce84db-2c3e-4115-8c3c-0abd776ee2b1",
   "metadata": {},
   "outputs": [],
   "source": [
    "content_api.validate_catalog(example)"
   ]
  },
  {
   "cell_type": "markdown",
   "id": "4f293477-20fc-420e-9d42-081f1be7acac",
   "metadata": {},
   "source": [
    "## Upload from file"
   ]
  },
  {
   "cell_type": "code",
   "execution_count": null,
   "id": "3b4297e5-d58c-473b-871d-8ef4621130cb",
   "metadata": {},
   "outputs": [],
   "source": [
    "# validate without uploading\n",
    "with open(\"sample_catalog.json\", \"r\") as f:\n",
    "    data = json.load(f)\n",
    "content_api.validate_catalog(data)"
   ]
  },
  {
   "cell_type": "code",
   "execution_count": null,
   "id": "80f28574-bc1b-4e06-bff5-0edfa20e81ad",
   "metadata": {},
   "outputs": [],
   "source": [
    "# validate and upload\n",
    "content_api.upload_from_file(\"sample_catalog.json\", batch_size=10, validate=True)"
   ]
  }
 ],
 "metadata": {
  "kernelspec": {
   "display_name": "Python 3 (ipykernel)",
   "language": "python",
   "name": "python3"
  },
  "language_info": {
   "codemirror_mode": {
    "name": "ipython",
    "version": 3
   },
   "file_extension": ".py",
   "mimetype": "text/x-python",
   "name": "python",
   "nbconvert_exporter": "python",
   "pygments_lexer": "ipython3",
   "version": "3.10.12"
  }
 },
 "nbformat": 4,
 "nbformat_minor": 5
}
